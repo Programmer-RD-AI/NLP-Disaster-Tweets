{
 "cells": [
  {
   "cell_type": "code",
   "execution_count": 1,
   "id": "79d45265-e0d5-43ff-adfa-412919a4cf66",
   "metadata": {
    "tags": []
   },
   "outputs": [],
   "source": [
    "import torch\n",
    "import torch.nn as nn\n",
    "\n",
    "DEVICE = torch.device(\"cuda\") if torch.cuda.is_available() else torch.device(\"cpu\")"
   ]
  },
  {
   "cell_type": "code",
   "execution_count": 2,
   "id": "8dd5abe1",
   "metadata": {},
   "outputs": [
    {
     "data": {
      "text/plain": [
       "device(type='cuda')"
      ]
     },
     "execution_count": 2,
     "metadata": {},
     "output_type": "execute_result"
    }
   ],
   "source": [
    "DEVICE"
   ]
  },
  {
   "cell_type": "code",
   "execution_count": 3,
   "id": "bce2fd37-59d6-49cd-9222-8678a5a338ed",
   "metadata": {
    "tags": []
   },
   "outputs": [],
   "source": [
    "import torchtext.transforms as T\n",
    "from torch.hub import load_state_dict_from_url\n",
    "\n",
    "padding_idx = 1\n",
    "bos_idx = 0\n",
    "eos_idx = 2\n",
    "max_seq_len = 256-2\n",
    "xlmr_vocab_path = r\"https://download.pytorch.org/models/text/xlmr.vocab.pt\"\n",
    "xlmr_spm_model_path = r\"https://download.pytorch.org/models/text/xlmr.sentencepiece.bpe.model\"\n",
    "\n",
    "text_transform = T.Sequential(\n",
    "    T.SentencePieceTokenizer(xlmr_spm_model_path), # split up the data \n",
    "    T.VocabTransform(load_state_dict_from_url(xlmr_vocab_path)), # give the data indexes according to the model\n",
    "    T.Truncate(max_seq_len), # shortens up the data, interms of lengths, stf...\n",
    "    T.AddToken(token=bos_idx, begin=True),\n",
    "    T.AddToken(token=eos_idx, begin=False),\n",
    ")\n",
    "\n",
    "\n",
    "from torch.utils.data import DataLoader"
   ]
  },
  {
   "cell_type": "code",
   "execution_count": 4,
   "id": "f5066aae-fe9b-4258-846f-1c6b256f7373",
   "metadata": {
    "tags": []
   },
   "outputs": [],
   "source": [
    "# text_transform = XLMR_BASE_ENCODER.transform()\n"
   ]
  },
  {
   "cell_type": "code",
   "execution_count": 5,
   "id": "8f4ae44f-0a24-4fa7-aa4c-0a737d4ccbff",
   "metadata": {
    "tags": []
   },
   "outputs": [
    {
     "data": {
      "text/plain": [
       "['▁testing', '▁this', '▁transform', 'er']"
      ]
     },
     "execution_count": 5,
     "metadata": {},
     "output_type": "execute_result"
    }
   ],
   "source": [
    "T.SentencePieceTokenizer(xlmr_spm_model_path)(\"testing this transformer\")"
   ]
  },
  {
   "cell_type": "code",
   "execution_count": 6,
   "id": "32fdcaf6-8281-4606-918f-5d858b16aaf3",
   "metadata": {
    "tags": []
   },
   "outputs": [
    {
     "data": {
      "text/plain": [
       "[134234, 903, 27198, 56]"
      ]
     },
     "execution_count": 6,
     "metadata": {},
     "output_type": "execute_result"
    }
   ],
   "source": [
    "T.VocabTransform(load_state_dict_from_url(xlmr_vocab_path))(T.SentencePieceTokenizer(xlmr_spm_model_path)(\"testing this transformer\"))"
   ]
  },
  {
   "cell_type": "code",
   "execution_count": 7,
   "id": "b3a609ae-4ff3-47e0-ab65-3167ff375451",
   "metadata": {
    "tags": []
   },
   "outputs": [
    {
     "data": {
      "text/plain": [
       "[134234, 903, 27198, 56]"
      ]
     },
     "execution_count": 7,
     "metadata": {},
     "output_type": "execute_result"
    }
   ],
   "source": [
    "T.Truncate(max_seq_len)(T.VocabTransform(load_state_dict_from_url(xlmr_vocab_path))(T.SentencePieceTokenizer(xlmr_spm_model_path)(\"testing this transformer\")))"
   ]
  },
  {
   "cell_type": "code",
   "execution_count": 8,
   "id": "0dbb6990-f185-4c02-8531-6bdff17e281f",
   "metadata": {
    "tags": []
   },
   "outputs": [
    {
     "data": {
      "text/plain": [
       "[0, 134234, 903, 27198, 56]"
      ]
     },
     "execution_count": 8,
     "metadata": {},
     "output_type": "execute_result"
    }
   ],
   "source": [
    "T.AddToken(token=bos_idx, begin=True)(T.Truncate(max_seq_len - 2)(T.VocabTransform(load_state_dict_from_url(xlmr_vocab_path))(T.SentencePieceTokenizer(xlmr_spm_model_path)(\"testing this transformer\"))))"
   ]
  },
  {
   "cell_type": "code",
   "execution_count": 9,
   "id": "7aac3af8-aa08-43cd-8731-d25b5e8841e4",
   "metadata": {
    "tags": []
   },
   "outputs": [
    {
     "data": {
      "text/plain": [
       "[0, 134234, 903, 27198, 56, 2]"
      ]
     },
     "execution_count": 9,
     "metadata": {},
     "output_type": "execute_result"
    }
   ],
   "source": [
    "T.AddToken(token=eos_idx, begin=False)(T.AddToken(token=bos_idx, begin=True)(T.Truncate(max_seq_len - 2)(T.VocabTransform(load_state_dict_from_url(xlmr_vocab_path))(T.SentencePieceTokenizer(xlmr_spm_model_path)(\"testing this transformer\")))))"
   ]
  },
  {
   "cell_type": "code",
   "execution_count": 10,
   "id": "ec7c13da-ae74-487b-8383-773ccd0a2a3b",
   "metadata": {
    "tags": []
   },
   "outputs": [],
   "source": [
    "from torchtext.datasets import SST2\n",
    "\n",
    "batch_size = 16\n",
    "\n",
    "train_datapipe = SST2(split=\"dev\")\n",
    "dev_datapipe = SST2(split=\"dev\")\n",
    "\n",
    "\n",
    "# Transform the raw dataset using non-batched API (i.e apply transformation line by line)\n",
    "def apply_transform(x):\n",
    "    return text_transform(x[0]), x[1]\n",
    "\n",
    "\n",
    "train_datapipe = train_datapipe.map(apply_transform)\n",
    "train_datapipe = train_datapipe.batch(batch_size)\n",
    "train_datapipe = train_datapipe.rows2columnar([\"token_ids\", \"target\"])\n",
    "train_dataloader = DataLoader(train_datapipe, batch_size=None)\n",
    "\n",
    "dev_datapipe = dev_datapipe.map(apply_transform)\n",
    "dev_datapipe = dev_datapipe.batch(batch_size)\n",
    "dev_datapipe = dev_datapipe.rows2columnar([\"token_ids\", \"target\"])\n",
    "dev_dataloader = DataLoader(dev_datapipe, batch_size=None)"
   ]
  },
  {
   "cell_type": "code",
   "execution_count": 11,
   "id": "e9fa6cba-2c27-4b30-b4df-97c1895700b8",
   "metadata": {
    "tags": []
   },
   "outputs": [],
   "source": [
    "# for x in train_dataloader:\n",
    "#     print(x)"
   ]
  },
  {
   "cell_type": "code",
   "execution_count": 12,
   "id": "9161d0dd-8ce1-4ca7-ab2c-461a2236556d",
   "metadata": {
    "tags": []
   },
   "outputs": [
    {
     "data": {
      "text/plain": [
       "RobertaModel(\n",
       "  (encoder): RobertaEncoder(\n",
       "    (transformer): TransformerEncoder(\n",
       "      (token_embedding): Embedding(250002, 768, padding_idx=1)\n",
       "      (layers): TransformerEncoder(\n",
       "        (layers): ModuleList(\n",
       "          (0-11): 12 x TransformerEncoderLayer(\n",
       "            (self_attn): MultiheadAttention(\n",
       "              (out_proj): NonDynamicallyQuantizableLinear(in_features=768, out_features=768, bias=True)\n",
       "            )\n",
       "            (linear1): Linear(in_features=768, out_features=3072, bias=True)\n",
       "            (dropout): Dropout(p=0.1, inplace=False)\n",
       "            (linear2): Linear(in_features=3072, out_features=768, bias=True)\n",
       "            (norm1): LayerNorm((768,), eps=1e-05, elementwise_affine=True)\n",
       "            (norm2): LayerNorm((768,), eps=1e-05, elementwise_affine=True)\n",
       "            (dropout1): Dropout(p=0.1, inplace=False)\n",
       "            (dropout2): Dropout(p=0.1, inplace=False)\n",
       "          )\n",
       "        )\n",
       "      )\n",
       "      (positional_embedding): PositionalEmbedding(\n",
       "        (embedding): Embedding(514, 768, padding_idx=1)\n",
       "      )\n",
       "      (embedding_layer_norm): LayerNorm((768,), eps=1e-05, elementwise_affine=True)\n",
       "      (dropout): Dropout(p=0.1, inplace=False)\n",
       "    )\n",
       "  )\n",
       "  (head): RobertaClassificationHead(\n",
       "    (dense): Linear(in_features=768, out_features=768, bias=True)\n",
       "    (dropout): Dropout(p=0.1, inplace=False)\n",
       "    (out_proj): Linear(in_features=768, out_features=2, bias=True)\n",
       "    (activation_fn): ReLU()\n",
       "  )\n",
       ")"
      ]
     },
     "execution_count": 12,
     "metadata": {},
     "output_type": "execute_result"
    }
   ],
   "source": [
    "num_classes = 2\n",
    "input_dim = 768\n",
    "\n",
    "from torchtext.models import RobertaClassificationHead, XLMR_BASE_ENCODER\n",
    "\n",
    "classifier_head = RobertaClassificationHead(num_classes=num_classes, input_dim=input_dim)\n",
    "model = XLMR_BASE_ENCODER.get_model(head=classifier_head)\n",
    "model.to(DEVICE)"
   ]
  },
  {
   "cell_type": "code",
   "execution_count": 13,
   "id": "7cc48bad-6a12-4b62-8b71-b704c9714b6c",
   "metadata": {
    "tags": []
   },
   "outputs": [],
   "source": [
    "import torchtext.functional as F\n",
    "from torch.optim import AdamW\n",
    "\n",
    "learning_rate = 1e-5\n",
    "optim = AdamW(model.parameters(), lr=learning_rate)\n",
    "criteria = nn.CrossEntropyLoss()\n",
    "\n",
    "\n",
    "def train_step(input, target):\n",
    "    output = model(input)\n",
    "    loss = criteria(output, target)\n",
    "    optim.zero_grad()\n",
    "    loss.backward()\n",
    "    optim.step()\n",
    "\n",
    "\n",
    "def eval_step(input, target):\n",
    "    output = model(input)\n",
    "    loss = criteria(output, target).item()\n",
    "    return float(loss), (output.argmax(1) == target).type(torch.float).sum().item()\n",
    "\n",
    "\n",
    "def evaluate():\n",
    "    model.eval()\n",
    "    total_loss = 0\n",
    "    correct_predictions = 0\n",
    "    total_predictions = 0\n",
    "    counter = 0\n",
    "    with torch.no_grad():\n",
    "        for batch in dev_dataloader:\n",
    "            input = F.to_tensor(batch[\"token_ids\"], padding_value=padding_idx).to(DEVICE)\n",
    "            target = torch.tensor(batch[\"target\"]).to(DEVICE)\n",
    "            loss, predictions = eval_step(input, target)\n",
    "            total_loss += loss\n",
    "            correct_predictions += predictions\n",
    "            total_predictions += len(target)\n",
    "            counter += 1\n",
    "\n",
    "    return total_loss / counter, correct_predictions / total_predictions"
   ]
  },
  {
   "cell_type": "code",
   "execution_count": 14,
   "id": "70ea2271-1e76-41b3-9b8f-ad44832687a4",
   "metadata": {
    "tags": []
   },
   "outputs": [
    {
     "data": {
      "text/plain": [
       "<torch.utils.data.dataloader.DataLoader at 0x7fdced661c10>"
      ]
     },
     "execution_count": 14,
     "metadata": {},
     "output_type": "execute_result"
    }
   ],
   "source": [
    "train_dataloader"
   ]
  },
  {
   "cell_type": "code",
   "execution_count": 15,
   "id": "2675ed21-e612-43cc-81b7-ad20c8821f46",
   "metadata": {
    "tags": []
   },
   "outputs": [
    {
     "name": "stdout",
     "output_type": "stream",
     "text": [
      "torch.Size([16, 49])\n",
      "torch.Size([16, 57])\n",
      "torch.Size([16, 46])\n",
      "torch.Size([16, 47])\n",
      "torch.Size([16, 59])\n",
      "torch.Size([16, 41])\n",
      "torch.Size([16, 58])\n",
      "torch.Size([16, 48])\n",
      "torch.Size([16, 61])\n",
      "torch.Size([16, 49])\n",
      "torch.Size([16, 61])\n",
      "torch.Size([16, 65])\n",
      "torch.Size([16, 49])\n",
      "torch.Size([16, 52])\n",
      "torch.Size([16, 53])\n",
      "torch.Size([16, 49])\n",
      "torch.Size([16, 54])\n",
      "torch.Size([16, 62])\n",
      "torch.Size([16, 60])\n",
      "torch.Size([16, 43])\n",
      "torch.Size([16, 58])\n",
      "torch.Size([16, 55])\n",
      "torch.Size([16, 46])\n",
      "torch.Size([16, 52])\n",
      "torch.Size([16, 62])\n",
      "torch.Size([16, 47])\n",
      "torch.Size([16, 53])\n",
      "torch.Size([16, 62])\n",
      "torch.Size([16, 59])\n",
      "torch.Size([16, 53])\n",
      "torch.Size([16, 49])\n",
      "torch.Size([16, 43])\n",
      "torch.Size([16, 54])\n",
      "torch.Size([16, 53])\n",
      "torch.Size([16, 48])\n",
      "torch.Size([16, 49])\n",
      "torch.Size([16, 57])\n",
      "torch.Size([16, 49])\n",
      "torch.Size([16, 53])\n",
      "torch.Size([16, 46])\n",
      "torch.Size([16, 52])\n",
      "torch.Size([16, 51])\n",
      "torch.Size([16, 47])\n",
      "torch.Size([16, 56])\n",
      "torch.Size([16, 47])\n",
      "torch.Size([16, 50])\n",
      "torch.Size([16, 55])\n",
      "torch.Size([16, 60])\n",
      "torch.Size([16, 49])\n",
      "torch.Size([16, 58])\n",
      "torch.Size([16, 57])\n",
      "torch.Size([16, 54])\n",
      "torch.Size([16, 52])\n",
      "torch.Size([16, 67])\n",
      "torch.Size([8, 42])\n"
     ]
    },
    {
     "name": "stderr",
     "output_type": "stream",
     "text": [
      "/home/user/anaconda3/lib/python3.11/site-packages/torch/nn/modules/transformer.py:287: UserWarning: The PyTorch API of nested tensors is in prototype stage and will change in the near future. (Triggered internally at ../aten/src/ATen/NestedTensorImpl.cpp:177.)\n",
      "  output = torch._nested_tensor_from_mask(output, src_key_padding_mask.logical_not(), mask_check=False)\n"
     ]
    },
    {
     "name": "stdout",
     "output_type": "stream",
     "text": [
      "Epoch = [0], loss = [0.6918775861913508], accuracy = [0.5]\n"
     ]
    }
   ],
   "source": [
    "num_epochs = 1\n",
    "\n",
    "for e in range(num_epochs):\n",
    "    for batch in train_dataloader:\n",
    "        input = F.to_tensor(batch[\"token_ids\"], padding_value=padding_idx).to(DEVICE)\n",
    "        print(input.shape)\n",
    "        target = torch.tensor(batch[\"target\"]).to(DEVICE)\n",
    "        train_step(input, target)\n",
    "\n",
    "    loss, accuracy = evaluate()\n",
    "    print(\"Epoch = [{}], loss = [{}], accuracy = [{}]\".format(e, loss, accuracy))"
   ]
  },
  {
   "cell_type": "code",
   "execution_count": 16,
   "id": "82dc1eca-a43f-4518-90ab-c339d5b6d0e4",
   "metadata": {
    "tags": []
   },
   "outputs": [],
   "source": [
    "import numpy as np"
   ]
  },
  {
   "cell_type": "code",
   "execution_count": 17,
   "id": "a3b3eafc-7af9-43e3-b84e-b1a7af683d89",
   "metadata": {},
   "outputs": [
    {
     "data": {
      "text/plain": [
       "tensor([0, 1, 1, 0, 1, 0, 0, 1], device='cuda:0')"
      ]
     },
     "execution_count": 17,
     "metadata": {},
     "output_type": "execute_result"
    }
   ],
   "source": [
    "target"
   ]
  },
  {
   "cell_type": "code",
   "execution_count": null,
   "id": "b3a5834f",
   "metadata": {},
   "outputs": [],
   "source": []
  }
 ],
 "metadata": {
  "kernelspec": {
   "display_name": "Python 3 (ipykernel)",
   "language": "python",
   "name": "python3"
  },
  "language_info": {
   "codemirror_mode": {
    "name": "ipython",
    "version": 3
   },
   "file_extension": ".py",
   "mimetype": "text/x-python",
   "name": "python",
   "nbconvert_exporter": "python",
   "pygments_lexer": "ipython3",
   "version": "3.11.3"
  }
 },
 "nbformat": 4,
 "nbformat_minor": 5
}
