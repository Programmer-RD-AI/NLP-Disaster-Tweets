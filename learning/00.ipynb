{
 "cells": [
  {
   "cell_type": "code",
   "execution_count": 1,
   "id": "79d45265-e0d5-43ff-adfa-412919a4cf66",
   "metadata": {
    "tags": []
   },
   "outputs": [],
   "source": [
    "import torch\n",
    "import torch.nn as nn\n",
    "\n",
    "DEVICE = torch.device(\"cuda\") if torch.cuda.is_available() else torch.device(\"cpu\")"
   ]
  },
  {
   "cell_type": "code",
   "execution_count": 2,
   "id": "bce2fd37-59d6-49cd-9222-8678a5a338ed",
   "metadata": {
    "tags": []
   },
   "outputs": [],
   "source": [
    "import torchtext.transforms as T\n",
    "from torch.hub import load_state_dict_from_url\n",
    "\n",
    "padding_idx = 1\n",
    "bos_idx = 0\n",
    "eos_idx = 2\n",
    "max_seq_len = 256-2\n",
    "xlmr_vocab_path = r\"https://download.pytorch.org/models/text/xlmr.vocab.pt\"\n",
    "xlmr_spm_model_path = r\"https://download.pytorch.org/models/text/xlmr.sentencepiece.bpe.model\"\n",
    "\n",
    "text_transform = T.Sequential(\n",
    "    T.SentencePieceTokenizer(xlmr_spm_model_path), # split up the data \n",
    "    T.VocabTransform(load_state_dict_from_url(xlmr_vocab_path)), # give the data indexes according to the model\n",
    "    T.Truncate(max_seq_len), # shortens up the data, interms of lengths, stf...\n",
    "    T.AddToken(token=bos_idx, begin=True),\n",
    "    T.AddToken(token=eos_idx, begin=False),\n",
    ")\n",
    "\n",
    "\n",
    "from torch.utils.data import DataLoader"
   ]
  },
  {
   "cell_type": "code",
   "execution_count": 3,
   "id": "f5066aae-fe9b-4258-846f-1c6b256f7373",
   "metadata": {
    "tags": []
   },
   "outputs": [],
   "source": [
    "# text_transform = XLMR_BASE_ENCODER.transform()\n"
   ]
  },
  {
   "cell_type": "code",
   "execution_count": 4,
   "id": "8f4ae44f-0a24-4fa7-aa4c-0a737d4ccbff",
   "metadata": {
    "tags": []
   },
   "outputs": [
    {
     "data": {
      "text/plain": [
       "['▁testing', '▁this', '▁transform', 'er']"
      ]
     },
     "execution_count": 4,
     "metadata": {},
     "output_type": "execute_result"
    }
   ],
   "source": [
    "T.SentencePieceTokenizer(xlmr_spm_model_path)(\"testing this transformer\")"
   ]
  },
  {
   "cell_type": "code",
   "execution_count": 5,
   "id": "32fdcaf6-8281-4606-918f-5d858b16aaf3",
   "metadata": {
    "tags": []
   },
   "outputs": [
    {
     "data": {
      "text/plain": [
       "[134234, 903, 27198, 56]"
      ]
     },
     "execution_count": 5,
     "metadata": {},
     "output_type": "execute_result"
    }
   ],
   "source": [
    "T.VocabTransform(load_state_dict_from_url(xlmr_vocab_path))(T.SentencePieceTokenizer(xlmr_spm_model_path)(\"testing this transformer\"))"
   ]
  },
  {
   "cell_type": "code",
   "execution_count": 6,
   "id": "b3a609ae-4ff3-47e0-ab65-3167ff375451",
   "metadata": {
    "tags": []
   },
   "outputs": [
    {
     "data": {
      "text/plain": [
       "[134234, 903, 27198, 56]"
      ]
     },
     "execution_count": 6,
     "metadata": {},
     "output_type": "execute_result"
    }
   ],
   "source": [
    "T.Truncate(max_seq_len)(T.VocabTransform(load_state_dict_from_url(xlmr_vocab_path))(T.SentencePieceTokenizer(xlmr_spm_model_path)(\"testing this transformer\")))"
   ]
  },
  {
   "cell_type": "code",
   "execution_count": 7,
   "id": "0dbb6990-f185-4c02-8531-6bdff17e281f",
   "metadata": {
    "tags": []
   },
   "outputs": [
    {
     "data": {
      "text/plain": [
       "[0, 134234, 903, 27198, 56]"
      ]
     },
     "execution_count": 7,
     "metadata": {},
     "output_type": "execute_result"
    }
   ],
   "source": [
    "T.AddToken(token=bos_idx, begin=True)(T.Truncate(max_seq_len - 2)(T.VocabTransform(load_state_dict_from_url(xlmr_vocab_path))(T.SentencePieceTokenizer(xlmr_spm_model_path)(\"testing this transformer\"))))"
   ]
  },
  {
   "cell_type": "code",
   "execution_count": 8,
   "id": "7aac3af8-aa08-43cd-8731-d25b5e8841e4",
   "metadata": {
    "tags": []
   },
   "outputs": [
    {
     "data": {
      "text/plain": [
       "[0, 134234, 903, 27198, 56, 2]"
      ]
     },
     "execution_count": 8,
     "metadata": {},
     "output_type": "execute_result"
    }
   ],
   "source": [
    "T.AddToken(token=eos_idx, begin=False)(T.AddToken(token=bos_idx, begin=True)(T.Truncate(max_seq_len - 2)(T.VocabTransform(load_state_dict_from_url(xlmr_vocab_path))(T.SentencePieceTokenizer(xlmr_spm_model_path)(\"testing this transformer\")))))"
   ]
  },
  {
   "cell_type": "code",
   "execution_count": 10,
   "id": "ec7c13da-ae74-487b-8383-773ccd0a2a3b",
   "metadata": {
    "tags": []
   },
   "outputs": [],
   "source": [
    "from torchtext.datasets import SST2\n",
    "\n",
    "batch_size = 16\n",
    "\n",
    "train_datapipe = SST2(split=\"dev\")\n",
    "dev_datapipe = SST2(split=\"dev\")\n",
    "\n",
    "\n",
    "# Transform the raw dataset using non-batched API (i.e apply transformation line by line)\n",
    "def apply_transform(x):\n",
    "    return text_transform(x[0]), x[1]\n",
    "\n",
    "\n",
    "train_datapipe = train_datapipe.map(apply_transform)\n",
    "train_datapipe = train_datapipe.batch(batch_size)\n",
    "train_datapipe = train_datapipe.rows2columnar([\"token_ids\", \"target\"])\n",
    "train_dataloader = DataLoader(train_datapipe, batch_size=None)\n",
    "\n",
    "dev_datapipe = dev_datapipe.map(apply_transform)\n",
    "dev_datapipe = dev_datapipe.batch(batch_size)\n",
    "dev_datapipe = dev_datapipe.rows2columnar([\"token_ids\", \"target\"])\n",
    "dev_dataloader = DataLoader(dev_datapipe, batch_size=None)"
   ]
  },
  {
   "cell_type": "code",
   "execution_count": 11,
   "id": "e9fa6cba-2c27-4b30-b4df-97c1895700b8",
   "metadata": {
    "tags": []
   },
   "outputs": [],
   "source": [
    "# for x in train_dataloader:\n",
    "#     print(x)"
   ]
  },
  {
   "cell_type": "code",
   "execution_count": 12,
   "id": "d0e66e78-a6e4-4c48-ad52-39c803583bac",
   "metadata": {
    "tags": []
   },
   "outputs": [],
   "source": [
    "def batch_transform(x):\n",
    "    return {\"token_ids\": text_transform(x[\"text\"]), \"target\": x[\"label\"]}\n",
    "\n",
    "\n",
    "train_datapipe = train_datapipe.batch(batch_size).rows2columnar([\"text\", \"label\"])\n",
    "train_datapipe = train_datapipe.map(lambda x: batch_transform)\n",
    "dev_datapipe = dev_datapipe.batch(batch_size).rows2columnar([\"text\", \"label\"])\n",
    "dev_datapipe = dev_datapipe.map(lambda x: batch_transform)"
   ]
  },
  {
   "cell_type": "code",
   "execution_count": 13,
   "id": "9161d0dd-8ce1-4ca7-ab2c-461a2236556d",
   "metadata": {
    "tags": []
   },
   "outputs": [
    {
     "data": {
      "text/plain": [
       "RobertaModel(\n",
       "  (encoder): RobertaEncoder(\n",
       "    (transformer): TransformerEncoder(\n",
       "      (token_embedding): Embedding(250002, 768, padding_idx=1)\n",
       "      (layers): TransformerEncoder(\n",
       "        (layers): ModuleList(\n",
       "          (0-11): 12 x TransformerEncoderLayer(\n",
       "            (self_attn): MultiheadAttention(\n",
       "              (out_proj): NonDynamicallyQuantizableLinear(in_features=768, out_features=768, bias=True)\n",
       "            )\n",
       "            (linear1): Linear(in_features=768, out_features=3072, bias=True)\n",
       "            (dropout): Dropout(p=0.1, inplace=False)\n",
       "            (linear2): Linear(in_features=3072, out_features=768, bias=True)\n",
       "            (norm1): LayerNorm((768,), eps=1e-05, elementwise_affine=True)\n",
       "            (norm2): LayerNorm((768,), eps=1e-05, elementwise_affine=True)\n",
       "            (dropout1): Dropout(p=0.1, inplace=False)\n",
       "            (dropout2): Dropout(p=0.1, inplace=False)\n",
       "          )\n",
       "        )\n",
       "      )\n",
       "      (positional_embedding): PositionalEmbedding(\n",
       "        (embedding): Embedding(514, 768, padding_idx=1)\n",
       "      )\n",
       "      (embedding_layer_norm): LayerNorm((768,), eps=1e-05, elementwise_affine=True)\n",
       "      (dropout): Dropout(p=0.1, inplace=False)\n",
       "    )\n",
       "  )\n",
       "  (head): RobertaClassificationHead(\n",
       "    (dense): Linear(in_features=768, out_features=768, bias=True)\n",
       "    (dropout): Dropout(p=0.1, inplace=False)\n",
       "    (out_proj): Linear(in_features=768, out_features=2, bias=True)\n",
       "    (activation_fn): ReLU()\n",
       "  )\n",
       ")"
      ]
     },
     "execution_count": 13,
     "metadata": {},
     "output_type": "execute_result"
    }
   ],
   "source": [
    "num_classes = 2\n",
    "input_dim = 768\n",
    "\n",
    "from torchtext.models import RobertaClassificationHead, XLMR_BASE_ENCODER\n",
    "\n",
    "classifier_head = RobertaClassificationHead(num_classes=num_classes, input_dim=input_dim)\n",
    "model = XLMR_BASE_ENCODER.get_model(head=classifier_head)\n",
    "model.to(DEVICE)"
   ]
  },
  {
   "cell_type": "code",
   "execution_count": 14,
   "id": "7cc48bad-6a12-4b62-8b71-b704c9714b6c",
   "metadata": {
    "tags": []
   },
   "outputs": [],
   "source": [
    "import torchtext.functional as F\n",
    "from torch.optim import AdamW\n",
    "\n",
    "learning_rate = 1e-5\n",
    "optim = AdamW(model.parameters(), lr=learning_rate)\n",
    "criteria = nn.CrossEntropyLoss()\n",
    "\n",
    "\n",
    "def train_step(input, target):\n",
    "    output = model(input)\n",
    "    loss = criteria(output, target)\n",
    "    optim.zero_grad()\n",
    "    loss.backward()\n",
    "    optim.step()\n",
    "\n",
    "\n",
    "def eval_step(input, target):\n",
    "    output = model(input)\n",
    "    loss = criteria(output, target).item()\n",
    "    return float(loss), (output.argmax(1) == target).type(torch.float).sum().item()\n",
    "\n",
    "\n",
    "def evaluate():\n",
    "    model.eval()\n",
    "    total_loss = 0\n",
    "    correct_predictions = 0\n",
    "    total_predictions = 0\n",
    "    counter = 0\n",
    "    with torch.no_grad():\n",
    "        for batch in dev_dataloader:\n",
    "            input = F.to_tensor(batch[\"token_ids\"], padding_value=padding_idx).to(DEVICE)\n",
    "            target = torch.tensor(batch[\"target\"]).to(DEVICE)\n",
    "            loss, predictions = eval_step(input, target)\n",
    "            total_loss += loss\n",
    "            correct_predictions += predictions\n",
    "            total_predictions += len(target)\n",
    "            counter += 1\n",
    "\n",
    "    return total_loss / counter, correct_predictions / total_predictions"
   ]
  },
  {
   "cell_type": "code",
   "execution_count": 15,
   "id": "70ea2271-1e76-41b3-9b8f-ad44832687a4",
   "metadata": {
    "tags": []
   },
   "outputs": [
    {
     "data": {
      "text/plain": [
       "<torch.utils.data.dataloader.DataLoader at 0x7f1e67525e90>"
      ]
     },
     "execution_count": 15,
     "metadata": {},
     "output_type": "execute_result"
    }
   ],
   "source": [
    "train_dataloader"
   ]
  },
  {
   "cell_type": "code",
   "execution_count": 16,
   "id": "2675ed21-e612-43cc-81b7-ad20c8821f46",
   "metadata": {
    "tags": []
   },
   "outputs": [
    {
     "name": "stderr",
     "output_type": "stream",
     "text": [
      "/home/user/anaconda3/lib/python3.11/site-packages/torch/nn/modules/transformer.py:287: UserWarning: The PyTorch API of nested tensors is in prototype stage and will change in the near future. (Triggered internally at ../aten/src/ATen/NestedTensorImpl.cpp:177.)\n",
      "  output = torch._nested_tensor_from_mask(output, src_key_padding_mask.logical_not(), mask_check=False)\n"
     ]
    },
    {
     "name": "stdout",
     "output_type": "stream",
     "text": [
      "Epoch = [0], loss = [0.6923663139343261], accuracy = [0.5091743119266054]\n"
     ]
    }
   ],
   "source": [
    "num_epochs = 1\n",
    "\n",
    "for e in range(num_epochs):\n",
    "    for batch in train_dataloader:\n",
    "        input = F.to_tensor(batch[\"token_ids\"], padding_value=padding_idx).to(DEVICE)\n",
    "        target = torch.tensor(batch[\"target\"]).to(DEVICE)\n",
    "        train_step(input, target)\n",
    "\n",
    "    loss, accuracy = evaluate()\n",
    "    print(\"Epoch = [{}], loss = [{}], accuracy = [{}]\".format(e, loss, accuracy))"
   ]
  },
  {
   "cell_type": "code",
   "execution_count": 22,
   "id": "82dc1eca-a43f-4518-90ab-c339d5b6d0e4",
   "metadata": {
    "tags": []
   },
   "outputs": [],
   "source": [
    "import numpy as np"
   ]
  },
  {
   "cell_type": "code",
   "execution_count": 25,
   "id": "bd70e0e5-ff03-4c4b-88ea-98530c15c523",
   "metadata": {
    "tags": []
   },
   "outputs": [],
   "source": [
    "# batch['token_ids']"
   ]
  },
  {
   "cell_type": "code",
   "execution_count": 18,
   "id": "87b81efb-78df-4a86-8dab-a45b40c9bfb1",
   "metadata": {
    "tags": []
   },
   "outputs": [
    {
     "ename": "ValueError",
     "evalue": "expected sequence of length 19 at dim 1 (got 29)",
     "output_type": "error",
     "traceback": [
      "\u001b[0;31m---------------------------------------------------------------------------\u001b[0m",
      "\u001b[0;31mValueError\u001b[0m                                Traceback (most recent call last)",
      "Cell \u001b[0;32mIn[18], line 1\u001b[0m\n\u001b[0;32m----> 1\u001b[0m F\u001b[38;5;241m.\u001b[39mto_tensor(batch[\u001b[38;5;124m'\u001b[39m\u001b[38;5;124mtoken_ids\u001b[39m\u001b[38;5;124m'\u001b[39m])\u001b[38;5;241m.\u001b[39mshape\n",
      "File \u001b[0;32m~/anaconda3/lib/python3.11/site-packages/torchtext/functional.py:30\u001b[0m, in \u001b[0;36mto_tensor\u001b[0;34m(input, padding_value, dtype)\u001b[0m\n\u001b[1;32m     28\u001b[0m \u001b[38;5;28;01melif\u001b[39;00m torch\u001b[38;5;241m.\u001b[39mjit\u001b[38;5;241m.\u001b[39misinstance(\u001b[38;5;28minput\u001b[39m, List[List[\u001b[38;5;28mint\u001b[39m]]):\n\u001b[1;32m     29\u001b[0m     \u001b[38;5;28;01mif\u001b[39;00m padding_value \u001b[38;5;129;01mis\u001b[39;00m \u001b[38;5;28;01mNone\u001b[39;00m:\n\u001b[0;32m---> 30\u001b[0m         output \u001b[38;5;241m=\u001b[39m torch\u001b[38;5;241m.\u001b[39mtensor(\u001b[38;5;28minput\u001b[39m, dtype\u001b[38;5;241m=\u001b[39mdtype)\n\u001b[1;32m     31\u001b[0m         \u001b[38;5;28;01mreturn\u001b[39;00m output\n\u001b[1;32m     32\u001b[0m     \u001b[38;5;28;01melse\u001b[39;00m:\n",
      "\u001b[0;31mValueError\u001b[0m: expected sequence of length 19 at dim 1 (got 29)"
     ]
    }
   ],
   "source": [
    "F.to_tensor(batch['token_ids']).shape"
   ]
  },
  {
   "cell_type": "code",
   "execution_count": 20,
   "id": "76cc07c9-21fe-47c5-a257-0113cf550f6c",
   "metadata": {
    "tags": []
   },
   "outputs": [
    {
     "data": {
      "text/plain": [
       "tensor([[     0,    115,   1181,      6,      4,   6897,   9393,      6,      4,\n",
       "            136,  79775,   4745,    538,      6,  93457,     71,      6,      5,\n",
       "              2,      1,      1,      1,      1,      1,      1,      1,      1,\n",
       "              1,      1,      1,      1,      1,      1,      1,      1,      1,\n",
       "              1,      1,      1,      1,      1,      1],\n",
       "        [     0,    347,  13400,  10792,  18788,     53,    242,      7,   7477,\n",
       "             47,  39544,      6,      4,     70,  24911,   5245,    621,  68403,\n",
       "              6,      4,    959,   5045,  11476,     23,     70,  26499,      6,\n",
       "              5,      2,      1,      1,      1,      1,      1,      1,      1,\n",
       "              1,      1,      1,      1,      1,      1],\n",
       "        [     0,     70,   2060,  22690,   1543,    186,  79929,     47,  16916,\n",
       "              6,      4,   1284,   1295,  14922,  22443,     47,  26866,      7,\n",
       "            111,     70,  26498,      6,      4,    903,   1346,     83,   2684,\n",
       "           6181,    214,   3229,    442,  24765,      7,   3884,     23,     70,\n",
       "          11015,      6,      5,      2,      1,      1],\n",
       "        [     0,   1556,    756,     70,      6, 168867,    111,     10,    259,\n",
       "           6238,  19361,      6,      5,      2,      1,      1,      1,      1,\n",
       "              1,      1,      1,      1,      1,      1,      1,      1,      1,\n",
       "              1,      1,      1,      1,      1,      1,      1,      1,      1,\n",
       "              1,      1,      1,      1,      1,      1],\n",
       "        [     0,     10,  14277,    678,     10,   2773,    142,  54689,    238,\n",
       "          12564,   7341,      6,      5,      2,      1,      1,      1,      1,\n",
       "              1,      1,      1,      1,      1,      1,      1,      1,      1,\n",
       "              1,      1,      1,      1,      1,      1,      1,      1,      1,\n",
       "              1,      1,      1,      1,      1,      1],\n",
       "        [     0,     10,  28368,   1884,    903,   5608,  16877,     13, 132539,\n",
       "             23,   6863,  95771,   2819,     70, 139356,  14602,    959,      6,\n",
       "              5,      2,      1,      1,      1,      1,      1,      1,      1,\n",
       "              1,      1,      1,      1,      1,      1,      1,      1,      1,\n",
       "              1,      1,      1,      1,      1,      1],\n",
       "        [     0,    153,     83,    142,    187,  68332,   9523,  81887,     99,\n",
       "           8951,    214,    390,  11782,    478,  36013,   1162,      6,      5,\n",
       "              2,      1,      1,      1,      1,      1,      1,      1,      1,\n",
       "              1,      1,      1,      1,      1,      1,      1,      1,      1,\n",
       "              1,      1,      1,      1,      1,      1],\n",
       "        [     0,  16487,    187,   5176,  15182,   9523,      6,      4,  50796,\n",
       "          10821,  14373,    517,  23432,     19,     23,  47363,  56224,   1507,\n",
       "            242,      7,  56398,     53,  84659,      7,      6,      4,  76512,\n",
       "           2069,  76199,     10,  23718,    450,   5809,    959,    186,  52295,\n",
       "             71,  54799,      6,      5,    242,      2]])"
      ]
     },
     "execution_count": 20,
     "metadata": {},
     "output_type": "execute_result"
    }
   ],
   "source": [
    "F.to_tensor(batch[\"token_ids\"], padding_value=padding_idx)"
   ]
  },
  {
   "cell_type": "code",
   "execution_count": null,
   "id": "a3b3eafc-7af9-43e3-b84e-b1a7af683d89",
   "metadata": {},
   "outputs": [],
   "source": []
  }
 ],
 "metadata": {
  "kernelspec": {
   "display_name": "Python 3 (ipykernel)",
   "language": "python",
   "name": "python3"
  },
  "language_info": {
   "codemirror_mode": {
    "name": "ipython",
    "version": 3
   },
   "file_extension": ".py",
   "mimetype": "text/x-python",
   "name": "python",
   "nbconvert_exporter": "python",
   "pygments_lexer": "ipython3",
   "version": "3.11.3"
  }
 },
 "nbformat": 4,
 "nbformat_minor": 5
}
